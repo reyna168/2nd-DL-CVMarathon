{
  "nbformat": 4,
  "nbformat_minor": 0,
  "metadata": {
    "accelerator": "GPU",
    "colab": {
      "name": "Day41_train_yolov3_Sample.ipynb",
      "provenance": [],
      "collapsed_sections": []
    },
    "kernelspec": {
      "display_name": "Python 3",
      "language": "python",
      "name": "python3"
    },
    "language_info": {
      "codemirror_mode": {
        "name": "ipython",
        "version": 3
      },
      "file_extension": ".py",
      "mimetype": "text/x-python",
      "name": "python",
      "nbconvert_exporter": "python",
      "pygments_lexer": "ipython3",
      "version": "3.7.4"
    }
  },
  "cells": [
    {
      "cell_type": "markdown",
      "metadata": {
        "colab_type": "text",
        "id": "CG77DrrB2CrU"
      },
      "source": [
        "## 範例\n",
        "參考 `train.py` 實現的訓練模型程式碼範例\n"
      ]
    },
    {
      "cell_type": "code",
      "metadata": {
        "colab_type": "code",
        "id": "NCEP-DG0VxlV",
        "outputId": "f721d3ef-be8b-4ccd-d0eb-3beb540f9c8e",
        "colab": {
          "base_uri": "https://localhost:8080/",
          "height": 126
        }
      },
      "source": [
        "%tensorflow_version 1.x # 確保 colob 中使用的 tensorflow 是 1.x 版本而不是 tensorflow 2\n",
        "import tensorflow as tf\n",
        "print(tf.__version__)"
      ],
      "execution_count": 3,
      "outputs": [
        {
          "output_type": "stream",
          "text": [
            "`%tensorflow_version` only switches the major version: 1.x or 2.x.\n",
            "You set: `1.x # 確保 colob 中使用的 tensorflow 是 1.x 版本而不是 tensorflow 2`. This will be interpreted as: `1.x`.\n",
            "\n",
            "\n",
            "TensorFlow 1.x selected.\n",
            "1.15.2\n"
          ],
          "name": "stdout"
        }
      ]
    },
    {
      "cell_type": "code",
      "metadata": {
        "colab_type": "code",
        "id": "eXT7SQe0KQxv",
        "outputId": "4b39f449-2af2-4a27-b8a7-7f887be287e2",
        "colab": {
          "base_uri": "https://localhost:8080/",
          "height": 310
        }
      },
      "source": [
        "pip install keras==2.2.4 # 需要安裝 keras 2.2.4 的版本"
      ],
      "execution_count": 4,
      "outputs": [
        {
          "output_type": "stream",
          "text": [
            "Collecting keras==2.2.4\n",
            "\u001b[?25l  Downloading https://files.pythonhosted.org/packages/5e/10/aa32dad071ce52b5502266b5c659451cfd6ffcbf14e6c8c4f16c0ff5aaab/Keras-2.2.4-py2.py3-none-any.whl (312kB)\n",
            "\r\u001b[K     |█                               | 10kB 17.1MB/s eta 0:00:01\r\u001b[K     |██                              | 20kB 1.7MB/s eta 0:00:01\r\u001b[K     |███▏                            | 30kB 2.2MB/s eta 0:00:01\r\u001b[K     |████▏                           | 40kB 2.5MB/s eta 0:00:01\r\u001b[K     |█████▎                          | 51kB 2.0MB/s eta 0:00:01\r\u001b[K     |██████▎                         | 61kB 2.3MB/s eta 0:00:01\r\u001b[K     |███████▍                        | 71kB 2.5MB/s eta 0:00:01\r\u001b[K     |████████▍                       | 81kB 2.8MB/s eta 0:00:01\r\u001b[K     |█████████▍                      | 92kB 2.9MB/s eta 0:00:01\r\u001b[K     |██████████▌                     | 102kB 2.8MB/s eta 0:00:01\r\u001b[K     |███████████▌                    | 112kB 2.8MB/s eta 0:00:01\r\u001b[K     |████████████▋                   | 122kB 2.8MB/s eta 0:00:01\r\u001b[K     |█████████████▋                  | 133kB 2.8MB/s eta 0:00:01\r\u001b[K     |██████████████▊                 | 143kB 2.8MB/s eta 0:00:01\r\u001b[K     |███████████████▊                | 153kB 2.8MB/s eta 0:00:01\r\u001b[K     |████████████████▊               | 163kB 2.8MB/s eta 0:00:01\r\u001b[K     |█████████████████▉              | 174kB 2.8MB/s eta 0:00:01\r\u001b[K     |██████████████████▉             | 184kB 2.8MB/s eta 0:00:01\r\u001b[K     |████████████████████            | 194kB 2.8MB/s eta 0:00:01\r\u001b[K     |█████████████████████           | 204kB 2.8MB/s eta 0:00:01\r\u001b[K     |██████████████████████          | 215kB 2.8MB/s eta 0:00:01\r\u001b[K     |███████████████████████         | 225kB 2.8MB/s eta 0:00:01\r\u001b[K     |████████████████████████▏       | 235kB 2.8MB/s eta 0:00:01\r\u001b[K     |█████████████████████████▏      | 245kB 2.8MB/s eta 0:00:01\r\u001b[K     |██████████████████████████▏     | 256kB 2.8MB/s eta 0:00:01\r\u001b[K     |███████████████████████████▎    | 266kB 2.8MB/s eta 0:00:01\r\u001b[K     |████████████████████████████▎   | 276kB 2.8MB/s eta 0:00:01\r\u001b[K     |█████████████████████████████▍  | 286kB 2.8MB/s eta 0:00:01\r\u001b[K     |██████████████████████████████▍ | 296kB 2.8MB/s eta 0:00:01\r\u001b[K     |███████████████████████████████▌| 307kB 2.8MB/s eta 0:00:01\r\u001b[K     |████████████████████████████████| 317kB 2.8MB/s \n",
            "\u001b[?25hRequirement already satisfied: numpy>=1.9.1 in /usr/local/lib/python3.6/dist-packages (from keras==2.2.4) (1.18.4)\n",
            "Requirement already satisfied: keras-preprocessing>=1.0.5 in /usr/local/lib/python3.6/dist-packages (from keras==2.2.4) (1.1.0)\n",
            "Requirement already satisfied: h5py in /usr/local/lib/python3.6/dist-packages (from keras==2.2.4) (2.10.0)\n",
            "Requirement already satisfied: pyyaml in /usr/local/lib/python3.6/dist-packages (from keras==2.2.4) (3.13)\n",
            "Requirement already satisfied: keras-applications>=1.0.6 in /usr/local/lib/python3.6/dist-packages (from keras==2.2.4) (1.0.8)\n",
            "Requirement already satisfied: scipy>=0.14 in /usr/local/lib/python3.6/dist-packages (from keras==2.2.4) (1.4.1)\n",
            "Requirement already satisfied: six>=1.9.0 in /usr/local/lib/python3.6/dist-packages (from keras==2.2.4) (1.12.0)\n",
            "Installing collected packages: keras\n",
            "  Found existing installation: Keras 2.3.1\n",
            "    Uninstalling Keras-2.3.1:\n",
            "      Successfully uninstalled Keras-2.3.1\n",
            "Successfully installed keras-2.2.4\n"
          ],
          "name": "stdout"
        }
      ]
    },
    {
      "cell_type": "code",
      "metadata": {
        "colab_type": "code",
        "id": "vELO-PTVxAtm",
        "outputId": "e78f081e-6a28-4ec5-9f73-0989ca063d6c",
        "colab": {
          "base_uri": "https://localhost:8080/",
          "height": 165
        }
      },
      "source": [
        "from google.colab import drive \n",
        "drive.mount('/content/gdrive') # 將 google drive 掛載在 colob，\n",
        "# 下載基於 keras 的 yolov3 程式碼\n",
        "%cd 'gdrive/My Drive'\n",
        "# !git clone https://github.com/qqwweee/keras-yolo3 # 如果之前已經下載過就可以註解掉\n",
        "%cd keras-yolo3"
      ],
      "execution_count": 5,
      "outputs": [
        {
          "output_type": "stream",
          "text": [
            "Go to this URL in a browser: https://accounts.google.com/o/oauth2/auth?client_id=947318989803-6bn6qk8qdgf4n4g3pfee6491hc0brc4i.apps.googleusercontent.com&redirect_uri=urn%3aietf%3awg%3aoauth%3a2.0%3aoob&response_type=code&scope=email%20https%3a%2f%2fwww.googleapis.com%2fauth%2fdocs.test%20https%3a%2f%2fwww.googleapis.com%2fauth%2fdrive%20https%3a%2f%2fwww.googleapis.com%2fauth%2fdrive.photos.readonly%20https%3a%2f%2fwww.googleapis.com%2fauth%2fpeopleapi.readonly\n",
            "\n",
            "Enter your authorization code:\n",
            "··········\n",
            "Mounted at /content/gdrive\n",
            "/content/gdrive/My Drive\n",
            "/content/gdrive/My Drive/keras-yolo3\n"
          ],
          "name": "stdout"
        }
      ]
    },
    {
      "cell_type": "code",
      "metadata": {
        "colab_type": "code",
        "id": "Avxgh7T7yp2g",
        "outputId": "6af9b574-10ac-4512-c2a3-0de07266e767",
        "colab": {
          "base_uri": "https://localhost:8080/",
          "height": 72
        }
      },
      "source": [
        "import os\n",
        "if not os.path.exists(\"model_data/yolo.h5\"):\n",
        "  # 下載 yolov3 的網路權重，並且把權重轉換為 keras 能夠讀取的格式\n",
        "    print(\"Model doesn't exist, downloading...\")\n",
        "    #os.system(\"wget https://pjreddie.com/media/files/yolov3.weights\")\n",
        "    print(\"Converting yolov3.weights to yolo.h5...\")\n",
        "    os.system(\"python convert.py yolov3.cfg yolov3.weights model_data/yolo.h5\")\n",
        "    print(\"done\")\n",
        "else:\n",
        "    print(\"Model exist\")"
      ],
      "execution_count": 0,
      "outputs": [
        {
          "output_type": "stream",
          "text": [
            "Model doesn't exist, downloading...\n",
            "Converting yolov3.weights to yolo.h5...\n",
            "done\n"
          ],
          "name": "stdout"
        }
      ]
    },
    {
      "cell_type": "code",
      "metadata": {
        "colab_type": "code",
        "id": "p0Ae5_Q5QD2d",
        "outputId": "4649efec-fac2-47b5-e7ce-fccb6b8420ce",
        "colab": {
          "base_uri": "https://localhost:8080/",
          "height": 35
        }
      },
      "source": [
        "# 直接下載 VOC2007 的資料集作為範例\n",
        "import os\n",
        "if not os.path.exists(\"VOCdevkit\"):\n",
        "    #os.system(\"wget http://pjreddie.com/media/files/VOCtrainval_06-Nov-2007.tar\") # 下載 VOC 資料集\n",
        "    os.system(\"tar xvf VOCtrainval_06-Nov-2007.tar\") # 解壓縮資料集，會花幾分鐘\n",
        "else:\n",
        "    print(\"data exists\")"
      ],
      "execution_count": 0,
      "outputs": [
        {
          "output_type": "stream",
          "text": [
            "data exists\n"
          ],
          "name": "stdout"
        }
      ]
    },
    {
      "cell_type": "markdown",
      "metadata": {
        "colab_type": "text",
        "id": "jgbDAK7NiHW3"
      },
      "source": [
        "以下的程式碼負責把下載下來的 Pascal VOC 資料集轉換為訓練模型時需要的格式，直接引用 https://github.com/qqwweee/keras-yolo3/blob/master/voc_annotation.py ，調整了一部分程式碼，讓我們只 sample 前 100 張圖片來做示範，在 colab 中會花一些時間跑完"
      ]
    },
    {
      "cell_type": "code",
      "metadata": {
        "colab_type": "code",
        "id": "vd7puN2WLjMA",
        "colab": {}
      },
      "source": [
        "import os\n",
        "if not os.path.exists(\"2007_train.txt\"): # 範例中訓練模型時所使用的，已經做好轉換的 annotation 檔名，增加這個檢查避免每次重新跑這段轉換的程式碼\n",
        "    import xml.etree.ElementTree as ET # 載入能夠 Parser xml 文件的 library\n",
        "    from os import getcwd\n",
        "\n",
        "    sets=[('2007', 'train'), ('2007', 'val')]\n",
        "\n",
        "  # Pascal VOC 的資料類別\n",
        "    classes = [\"aeroplane\", \"bicycle\", \"bird\", \"boat\", \"bottle\", \"bus\", \"car\", \"cat\", \"chair\", \"cow\", \"diningtable\", \"dog\", \"horse\", \"motorbike\", \"person\", \"pottedplant\", \"sheep\", \"sofa\", \"train\", \"tvmonitor\"]\n",
        "\n",
        "  # 把 annotation 轉換訓練時需要的資料形態\n",
        "def convert_annotation(year, image_id, list_file):\n",
        "    in_file = open('VOCdevkit/VOC%s/Annotations/%s.xml'%(year, image_id))\n",
        "    tree=ET.parse(in_file)\n",
        "    root = tree.getroot()\n",
        "\n",
        "    for obj in root.iter('object'):\n",
        "        difficult = obj.find('difficult').text\n",
        "        cls = obj.find('name').text\n",
        "        if cls not in classes or int(difficult)==1:\n",
        "            continue\n",
        "        cls_id = classes.index(cls)\n",
        "        xmlbox = obj.find('bndbox')\n",
        "        b = (int(xmlbox.find('xmin').text), int(xmlbox.find('ymin').text), int(xmlbox.find('xmax').text), int(xmlbox.find('ymax').text))\n",
        "        list_file.write(\" \" + \",\".join([str(a) for a in b]) + ',' + str(cls_id))\n",
        "\n",
        "    wd = \".\"\n",
        "\n",
        "    for year, image_set in sets:\n",
        "        image_ids = open('VOCdevkit/VOC%s/ImageSets/Main/%s.txt'%(year, image_set)).read().strip().split()\n",
        "        annotation_path = '%s_%s.txt'%(year, image_set)\n",
        "        list_file = open(annotation_path, 'w')\n",
        "        print(\"save annotation at %s\" % annotation_path)\n",
        "        for image_id in image_ids[:100]: # 只處理 100 張圖片來做範例\n",
        "            list_file.write('%s/VOCdevkit/VOC%s/JPEGImages/%s.jpg'%(wd, year, image_id))\n",
        "            convert_annotation(year, image_id, list_file)\n",
        "            list_file.write('\\n')\n",
        "        list_file.close()"
      ],
      "execution_count": 0,
      "outputs": []
    },
    {
      "cell_type": "code",
      "metadata": {
        "colab_type": "code",
        "id": "-vhfpWt92WZS",
        "outputId": "a739b34a-3dd2-4e9d-bfc5-591624b01327",
        "colab": {
          "base_uri": "https://localhost:8080/",
          "height": 35
        }
      },
      "source": [
        "# 將 train.py 所需要的套件載入\n",
        "import numpy as np\n",
        "import keras.backend as K\n",
        "from keras.layers import Input, Lambda\n",
        "from keras.models import Model\n",
        "from keras.optimizers import Adam\n",
        "from keras.callbacks import TensorBoard, ModelCheckpoint, ReduceLROnPlateau, EarlyStopping\n",
        "\n",
        "from yolo3.model import preprocess_true_boxes, yolo_body, tiny_yolo_body, yolo_loss\n",
        "from yolo3.utils import get_random_data"
      ],
      "execution_count": 6,
      "outputs": [
        {
          "output_type": "stream",
          "text": [
            "Using TensorFlow backend.\n"
          ],
          "name": "stderr"
        }
      ]
    },
    {
      "cell_type": "code",
      "metadata": {
        "colab_type": "code",
        "id": "gkydbfQ2GUts",
        "colab": {}
      },
      "source": [
        "from train import get_classes, get_anchors, create_model, create_tiny_model, data_generator, data_generator_wrapper"
      ],
      "execution_count": 0,
      "outputs": []
    },
    {
      "cell_type": "markdown",
      "metadata": {
        "colab_type": "text",
        "id": "VKDXIfXIllJS"
      },
      "source": [
        "把 YOLO weights 轉換為能夠提供給 keras 作為訓練新模型的初始權重，注意這部分多了一個 `-w` 的參數，可以參考 https://github.com/qqwweee/keras-yolo3/blob/master/convert.py#L242 以及 https://stackoverflow.com/questions/42621864/difference-between-keras-model-save-and-model-save-weights 理解其中差別"
      ]
    },
    {
      "cell_type": "code",
      "metadata": {
        "colab_type": "code",
        "id": "bxTnBxKISVSc",
        "outputId": "21ac42ed-3ba4-43a7-f456-eac66dfbb66f",
        "colab": {
          "base_uri": "https://localhost:8080/",
          "height": 35
        }
      },
      "source": [
        "if not os.path.exists(\"model_data/yolo_weights.h5\"):\n",
        "    print(\"Converting pretrained YOLOv3 weights for training\")\n",
        "    os.system(\"python convert.py -w yolov3.cfg yolov3.weights model_data/yolo_weights.h5\") \n",
        "else:\n",
        "    print(\"Pretrained weights exists\")"
      ],
      "execution_count": 0,
      "outputs": [
        {
          "output_type": "stream",
          "text": [
            "Converting pretrained YOLOv3 weights for training\n"
          ],
          "name": "stdout"
        }
      ]
    },
    {
      "cell_type": "code",
      "metadata": {
        "colab_type": "code",
        "id": "jTQQyxP9Gnem",
        "outputId": "2e299811-44be-45e1-eb3c-3c98922687c3",
        "colab": {
          "base_uri": "https://localhost:8080/",
          "height": 1000
        }
      },
      "source": [
        "from PIL import ImageFile\n",
        "ImageFile.LOAD_TRUNCATED_IMAGES = True\n",
        "\n",
        "annotation_path = '2007_train.txt' # 轉換好格式的標註檔案\n",
        "log_dir = 'logs/000/' # 訓練好的模型儲存的路徑\n",
        "classes_path = 'model_data/voc_classes.txt'\n",
        "anchors_path = 'model_data/yolo_anchors.txt'\n",
        "class_names = get_classes(classes_path)\n",
        "num_classes = len(class_names)\n",
        "anchors = get_anchors(anchors_path)\n",
        "\n",
        "input_shape = (416,416) # multiple of 32, hw\n",
        "\n",
        "is_tiny_version = len(anchors)==6 # default setting\n",
        "if is_tiny_version:\n",
        "    model = create_tiny_model(input_shape, anchors, num_classes,\n",
        "        freeze_body=2, weights_path='model_data/tiny_yolo_weights.h5')\n",
        "else:\n",
        "    model = create_model(input_shape, anchors, num_classes,\n",
        "        freeze_body=2, weights_path='model_data/yolo_weights.h5') # make sure you know what you freeze\n",
        "\n",
        "logging = TensorBoard(log_dir=log_dir)\n",
        "checkpoint = ModelCheckpoint(log_dir + 'ep{epoch:03d}-loss{loss:.3f}-val_loss{val_loss:.3f}.h5',\n",
        "    monitor='val_loss', save_weights_only=True, save_best_only=True, period=3)\n",
        "reduce_lr = ReduceLROnPlateau(monitor='val_loss', factor=0.1, patience=3, verbose=1)\n",
        "early_stopping = EarlyStopping(monitor='val_loss', min_delta=0, patience=10, verbose=1)\n",
        "\n",
        "# 分為 training 以及 validation\n",
        "val_split = 0.1\n",
        "with open(annotation_path) as f:\n",
        "    lines = f.readlines()\n",
        "np.random.seed(10101)\n",
        "np.random.shuffle(lines)\n",
        "np.random.seed(None)\n",
        "num_val = int(len(lines)*val_split)\n",
        "num_train = len(lines) - num_val\n",
        "\n",
        "# Train with frozen layers first, to get a stable loss.\n",
        "# Adjust num epochs to your dataset. This step is enough to obtain a not bad model.\n",
        "# 一開始先 freeze YOLO 除了 output layer 以外的 darknet53 backbone 來 train\n",
        "if True:\n",
        "    model.compile(optimizer=Adam(lr=1e-3), loss={\n",
        "        # use custom yolo_loss Lambda layer.\n",
        "        'yolo_loss': lambda y_true, y_pred: y_pred})\n",
        "\n",
        "    batch_size = 16\n",
        "    print('Train on {} samples, val on {} samples, with batch size {}.'.format(num_train, num_val, batch_size))\n",
        "    # 模型利用 generator 產生的資料做訓練，強烈建議大家去閱讀及理解 data_generator_wrapper 在 train.py 中的實現\n",
        "    model.fit_generator(data_generator_wrapper(lines[:num_train], batch_size, input_shape, anchors, num_classes),\n",
        "            steps_per_epoch=max(1, num_train//batch_size),\n",
        "            validation_data=data_generator_wrapper(lines[num_train:], batch_size, input_shape, anchors, num_classes),\n",
        "            validation_steps=max(1, num_val//batch_size),\n",
        "            epochs=50,\n",
        "            initial_epoch=0,\n",
        "            callbacks=[logging, checkpoint])\n",
        "    \n",
        "    model.save_weights(log_dir + 'trained_weights_stage_1.h5')\n",
        "\n",
        "# Unfreeze and continue training, to fine-tune.\n",
        "# Train longer if the result is not good.\n",
        "if True:\n",
        "    # 把所有 layer 都改為 trainable\n",
        "    for i in range(len(model.layers)):\n",
        "        model.layers[i].trainable = True\n",
        "    model.compile(optimizer=Adam(lr=1e-4), loss={'yolo_loss': lambda y_true, y_pred: y_pred}) # recompile to apply the change\n",
        "    print('Unfreeze all of the layers.')\n",
        "\n",
        "    batch_size = 16 # note that more GPU memory is required after unfreezing the body\n",
        "    print('Train on {} samples, val on {} samples, with batch size {}.'.format(num_train, num_val, batch_size))\n",
        "    model.fit_generator(data_generator_wrapper(lines[:num_train], batch_size, input_shape, anchors, num_classes),\n",
        "        steps_per_epoch=max(1, num_train//batch_size),\n",
        "        validation_data=data_generator_wrapper(lines[num_train:], batch_size, input_shape, anchors, num_classes),\n",
        "        validation_steps=max(1, num_val//batch_size),\n",
        "        epochs=100,\n",
        "        initial_epoch=50,\n",
        "        callbacks=[logging, checkpoint, reduce_lr, early_stopping])\n",
        "    model.save_weights(log_dir + 'trained_weights_final.h5')"
      ],
      "execution_count": 0,
      "outputs": [
        {
          "output_type": "stream",
          "text": [
            "Create YOLOv3 model with 9 anchors and 1 classes.\n",
            "Load weights model_data/yolo_weights.h5.\n",
            "Freeze the first 249 layers of total 252 layers.\n",
            "Train on 108 samples, val on 12 samples, with batch size 16.\n",
            "Epoch 1/50\n",
            "6/6 [==============================] - 14s 2s/step - loss: 7065.5146 - val_loss: nan\n",
            "WARNING:tensorflow:From /usr/local/lib/python3.6/dist-packages/keras/callbacks.py:995: The name tf.Summary is deprecated. Please use tf.compat.v1.Summary instead.\n",
            "\n",
            "Epoch 2/50\n",
            "6/6 [==============================] - 9s 1s/step - loss: 6933.7661 - val_loss: nan\n",
            "Epoch 3/50\n",
            "6/6 [==============================] - 8s 1s/step - loss: 6820.5713 - val_loss: nan\n",
            "Epoch 4/50\n",
            "6/6 [==============================] - 8s 1s/step - loss: 6716.8307 - val_loss: nan\n",
            "Epoch 5/50\n",
            "6/6 [==============================] - 8s 1s/step - loss: 6617.6016 - val_loss: nan\n",
            "Epoch 6/50\n",
            "6/6 [==============================] - 8s 1s/step - loss: 6522.1462 - val_loss: nan\n",
            "Epoch 7/50\n",
            "6/6 [==============================] - 8s 1s/step - loss: 6426.4569 - val_loss: nan\n",
            "Epoch 8/50\n",
            "6/6 [==============================] - 8s 1s/step - loss: 6331.3893 - val_loss: nan\n",
            "Epoch 9/50\n",
            "6/6 [==============================] - 8s 1s/step - loss: 6238.9482 - val_loss: nan\n",
            "Epoch 10/50\n",
            "6/6 [==============================] - 8s 1s/step - loss: 6149.2014 - val_loss: nan\n",
            "Epoch 11/50\n",
            "6/6 [==============================] - 8s 1s/step - loss: 6059.0964 - val_loss: nan\n",
            "Epoch 12/50\n",
            "6/6 [==============================] - 8s 1s/step - loss: 5971.3354 - val_loss: nan\n",
            "Epoch 13/50\n",
            "6/6 [==============================] - 8s 1s/step - loss: 5884.8371 - val_loss: nan\n",
            "Epoch 14/50\n",
            "6/6 [==============================] - 8s 1s/step - loss: 5800.5295 - val_loss: nan\n",
            "Epoch 15/50\n",
            "6/6 [==============================] - 8s 1s/step - loss: 5717.6034 - val_loss: nan\n",
            "Epoch 16/50\n",
            "6/6 [==============================] - 8s 1s/step - loss: 5635.1326 - val_loss: nan\n",
            "Epoch 17/50\n",
            "6/6 [==============================] - 8s 1s/step - loss: 5555.0389 - val_loss: nan\n",
            "Epoch 18/50\n",
            "6/6 [==============================] - 8s 1s/step - loss: 5475.7209 - val_loss: nan\n",
            "Epoch 19/50\n",
            "6/6 [==============================] - 8s 1s/step - loss: 5398.1736 - val_loss: nan\n",
            "Epoch 20/50\n",
            "6/6 [==============================] - 8s 1s/step - loss: 5321.6173 - val_loss: nan\n",
            "Epoch 21/50\n",
            "6/6 [==============================] - 8s 1s/step - loss: 5246.1609 - val_loss: nan\n",
            "Epoch 22/50\n",
            "6/6 [==============================] - 8s 1s/step - loss: 5172.4296 - val_loss: nan\n",
            "Epoch 23/50\n",
            "6/6 [==============================] - 8s 1s/step - loss: 5099.2058 - val_loss: nan\n",
            "Epoch 24/50\n",
            "6/6 [==============================] - 8s 1s/step - loss: 5028.6471 - val_loss: nan\n",
            "Epoch 25/50\n",
            "6/6 [==============================] - 8s 1s/step - loss: 4958.5176 - val_loss: nan\n",
            "Epoch 26/50\n",
            "6/6 [==============================] - 8s 1s/step - loss: 4889.4692 - val_loss: nan\n",
            "Epoch 27/50\n",
            "6/6 [==============================] - 8s 1s/step - loss: 4821.5682 - val_loss: nan\n",
            "Epoch 28/50\n",
            "6/6 [==============================] - 8s 1s/step - loss: 4754.4724 - val_loss: nan\n",
            "Epoch 29/50\n",
            "6/6 [==============================] - 8s 1s/step - loss: 4688.9380 - val_loss: nan\n",
            "Epoch 30/50\n",
            "6/6 [==============================] - 8s 1s/step - loss: 4625.0878 - val_loss: nan\n",
            "Epoch 31/50\n",
            "6/6 [==============================] - 8s 1s/step - loss: 4561.0320 - val_loss: nan\n",
            "Epoch 32/50\n",
            "6/6 [==============================] - 8s 1s/step - loss: 4499.2048 - val_loss: nan\n",
            "Epoch 33/50\n",
            "6/6 [==============================] - 8s 1s/step - loss: 4438.2570 - val_loss: nan\n",
            "Epoch 34/50\n",
            "6/6 [==============================] - 8s 1s/step - loss: 4377.6555 - val_loss: nan\n",
            "Epoch 35/50\n",
            "6/6 [==============================] - 8s 1s/step - loss: 4318.9676 - val_loss: nan\n",
            "Epoch 36/50\n",
            "6/6 [==============================] - 8s 1s/step - loss: 4261.4626 - val_loss: nan\n",
            "Epoch 37/50\n",
            "6/6 [==============================] - 8s 1s/step - loss: 4203.4395 - val_loss: nan\n",
            "Epoch 38/50\n",
            "6/6 [==============================] - 8s 1s/step - loss: 4146.9985 - val_loss: nan\n",
            "Epoch 39/50\n",
            "6/6 [==============================] - 8s 1s/step - loss: 4092.6484 - val_loss: nan\n",
            "Epoch 40/50\n",
            "6/6 [==============================] - 8s 1s/step - loss: 4038.4066 - val_loss: nan\n",
            "Epoch 41/50\n",
            "6/6 [==============================] - 8s 1s/step - loss: 3984.4734 - val_loss: nan\n",
            "Epoch 42/50\n",
            "6/6 [==============================] - 8s 1s/step - loss: 3932.3175 - val_loss: nan\n",
            "Epoch 43/50\n",
            "6/6 [==============================] - 8s 1s/step - loss: 3880.7710 - val_loss: nan\n",
            "Epoch 44/50\n",
            "6/6 [==============================] - 8s 1s/step - loss: 3830.3724 - val_loss: nan\n",
            "Epoch 45/50\n",
            "6/6 [==============================] - 8s 1s/step - loss: 3780.3751 - val_loss: nan\n",
            "Epoch 46/50\n",
            "6/6 [==============================] - 8s 1s/step - loss: 3731.8434 - val_loss: nan\n",
            "Epoch 47/50\n",
            "6/6 [==============================] - 8s 1s/step - loss: 3683.8536 - val_loss: nan\n",
            "Epoch 48/50\n",
            "6/6 [==============================] - 8s 1s/step - loss: 3636.4920 - val_loss: nan\n",
            "Epoch 49/50\n",
            "6/6 [==============================] - 8s 1s/step - loss: 3589.8645 - val_loss: nan\n",
            "Epoch 50/50\n",
            "6/6 [==============================] - 8s 1s/step - loss: 3544.5616 - val_loss: nan\n",
            "Unfreeze all of the layers.\n",
            "Train on 108 samples, val on 12 samples, with batch size 16.\n",
            "Epoch 51/100\n",
            "6/6 [==============================] - 28s 5s/step - loss: 3476.1191 - val_loss: 3248.4617\n",
            "Epoch 52/100\n",
            "6/6 [==============================] - 4s 662ms/step - loss: 3365.4544 - val_loss: 3063.1445\n",
            "Epoch 53/100\n",
            "6/6 [==============================] - 8s 1s/step - loss: 3252.7939 - val_loss: 2875.8486\n",
            "Epoch 54/100\n",
            "6/6 [==============================] - 9s 1s/step - loss: 3138.7542 - val_loss: 2723.2178\n",
            "Epoch 55/100\n",
            "6/6 [==============================] - 9s 1s/step - loss: 3029.8826 - val_loss: 2508.7388\n",
            "Epoch 56/100\n",
            "6/6 [==============================] - 9s 1s/step - loss: 2924.9653 - val_loss: 2300.6294\n",
            "Epoch 57/100\n",
            "6/6 [==============================] - 9s 1s/step - loss: 2826.7275 - val_loss: 2237.3696\n",
            "Epoch 58/100\n",
            "6/6 [==============================] - 8s 1s/step - loss: 2734.8424 - val_loss: 2031.0536\n",
            "Epoch 59/100\n",
            "6/6 [==============================] - 9s 2s/step - loss: 2656.7569 - val_loss: 1966.5472\n",
            "Epoch 60/100\n",
            "6/6 [==============================] - 9s 1s/step - loss: 2581.6108 - val_loss: 1920.3976\n",
            "Epoch 61/100\n",
            "6/6 [==============================] - 8s 1s/step - loss: 2514.7521 - val_loss: 2074.1533\n",
            "Epoch 62/100\n",
            "6/6 [==============================] - 9s 2s/step - loss: 2452.2543 - val_loss: 2063.9753\n",
            "Epoch 63/100\n",
            "6/6 [==============================] - 9s 1s/step - loss: 2395.7052 - val_loss: 2096.5830\n",
            "\n",
            "Epoch 00063: ReduceLROnPlateau reducing learning rate to 9.999999747378752e-06.\n",
            "Epoch 64/100\n",
            "6/6 [==============================] - 7s 1s/step - loss: 2359.6167 - val_loss: 2165.2378\n",
            "Epoch 65/100\n",
            "6/6 [==============================] - 9s 1s/step - loss: 2355.2479 - val_loss: 2198.5054\n",
            "Epoch 66/100\n",
            "6/6 [==============================] - 9s 1s/step - loss: 2347.9843 - val_loss: 2255.6831\n",
            "\n",
            "Epoch 00066: ReduceLROnPlateau reducing learning rate to 9.999999747378752e-07.\n",
            "Epoch 67/100\n",
            "6/6 [==============================] - 9s 1s/step - loss: 2345.6224 - val_loss: 2228.7373\n",
            "Epoch 68/100\n",
            "6/6 [==============================] - 9s 1s/step - loss: 2344.9276 - val_loss: 2235.0071\n",
            "Epoch 69/100\n",
            "6/6 [==============================] - 9s 1s/step - loss: 2344.1224 - val_loss: 2257.9819\n",
            "\n",
            "Epoch 00069: ReduceLROnPlateau reducing learning rate to 9.999999974752428e-08.\n",
            "Epoch 70/100\n",
            "6/6 [==============================] - 9s 1s/step - loss: 2344.1457 - val_loss: 2254.8813\n",
            "Epoch 00070: early stopping\n"
          ],
          "name": "stdout"
        }
      ]
    },
    {
      "cell_type": "code",
      "metadata": {
        "colab_type": "code",
        "id": "k0MyCUeRuARA",
        "colab": {}
      },
      "source": [
        "from PIL import Image\n",
        "image = Image.open('test1.jpg')"
      ],
      "execution_count": 0,
      "outputs": []
    },
    {
      "cell_type": "code",
      "metadata": {
        "colab_type": "code",
        "id": "v8r8dO3qrQ6_",
        "outputId": "cb42fbc2-1c3a-4631-8bc2-4863f856dc65",
        "colab": {
          "base_uri": "https://localhost:8080/",
          "height": 619
        }
      },
      "source": [
        "from yolo import YOLO\n",
        "yolo_model = YOLO(model_path='logs/000/'+ 'trained_weights_final.h5', classes_path='model_data/voc_classes.txt')\n",
        "r_image = yolo_model.detect_image(image)"
      ],
      "execution_count": 12,
      "outputs": [
        {
          "output_type": "stream",
          "text": [
            "WARNING:tensorflow:From /usr/local/lib/python3.6/dist-packages/keras/backend/tensorflow_backend.py:174: The name tf.get_default_session is deprecated. Please use tf.compat.v1.get_default_session instead.\n",
            "\n",
            "WARNING:tensorflow:From /usr/local/lib/python3.6/dist-packages/keras/backend/tensorflow_backend.py:181: The name tf.ConfigProto is deprecated. Please use tf.compat.v1.ConfigProto instead.\n",
            "\n",
            "WARNING:tensorflow:From /usr/local/lib/python3.6/dist-packages/keras/backend/tensorflow_backend.py:186: The name tf.Session is deprecated. Please use tf.compat.v1.Session instead.\n",
            "\n",
            "WARNING:tensorflow:From /usr/local/lib/python3.6/dist-packages/keras/backend/tensorflow_backend.py:190: The name tf.global_variables is deprecated. Please use tf.compat.v1.global_variables instead.\n",
            "\n",
            "WARNING:tensorflow:From /usr/local/lib/python3.6/dist-packages/keras/backend/tensorflow_backend.py:74: The name tf.get_default_graph is deprecated. Please use tf.compat.v1.get_default_graph instead.\n",
            "\n",
            "WARNING:tensorflow:From /usr/local/lib/python3.6/dist-packages/keras/backend/tensorflow_backend.py:517: The name tf.placeholder is deprecated. Please use tf.compat.v1.placeholder instead.\n",
            "\n",
            "WARNING:tensorflow:From /usr/local/lib/python3.6/dist-packages/keras/backend/tensorflow_backend.py:4138: The name tf.random_uniform is deprecated. Please use tf.random.uniform instead.\n",
            "\n",
            "WARNING:tensorflow:From /usr/local/lib/python3.6/dist-packages/keras/backend/tensorflow_backend.py:199: The name tf.is_variable_initialized is deprecated. Please use tf.compat.v1.is_variable_initialized instead.\n",
            "\n",
            "WARNING:tensorflow:From /usr/local/lib/python3.6/dist-packages/keras/backend/tensorflow_backend.py:206: The name tf.variables_initializer is deprecated. Please use tf.compat.v1.variables_initializer instead.\n",
            "\n",
            "WARNING:tensorflow:From /usr/local/lib/python3.6/dist-packages/keras/backend/tensorflow_backend.py:1834: The name tf.nn.fused_batch_norm is deprecated. Please use tf.compat.v1.nn.fused_batch_norm instead.\n",
            "\n",
            "WARNING:tensorflow:From /usr/local/lib/python3.6/dist-packages/keras/backend/tensorflow_backend.py:133: The name tf.placeholder_with_default is deprecated. Please use tf.compat.v1.placeholder_with_default instead.\n",
            "\n",
            "WARNING:tensorflow:From /usr/local/lib/python3.6/dist-packages/keras/backend/tensorflow_backend.py:2018: The name tf.image.resize_nearest_neighbor is deprecated. Please use tf.compat.v1.image.resize_nearest_neighbor instead.\n",
            "\n",
            "logs/000/trained_weights_final.h5 model, anchors, and classes loaded.\n",
            "WARNING:tensorflow:From /tensorflow-1.15.2/python3.6/tensorflow_core/python/ops/array_ops.py:1475: where (from tensorflow.python.ops.array_ops) is deprecated and will be removed in a future version.\n",
            "Instructions for updating:\n",
            "Use tf.where in 2.0, which has the same broadcast rule as np.where\n",
            "(416, 416, 3)\n",
            "Found 1 boxes for img\n",
            "kangaroo 0.94 (67, 2) (247, 183)\n",
            "7.959134947999928\n"
          ],
          "name": "stdout"
        }
      ]
    },
    {
      "cell_type": "code",
      "metadata": {
        "colab_type": "code",
        "id": "TY6v33F7trGQ",
        "outputId": "81fc31c2-c24a-47be-fc38-4f7aca6cbba9",
        "colab": {
          "base_uri": "https://localhost:8080/",
          "height": 200
        }
      },
      "source": [
        "r_image"
      ],
      "execution_count": 13,
      "outputs": [
        {
          "output_type": "execute_result",
          "data": {
            "image/png": "[encoded data removed]",
            "text/plain": [
              "<PIL.JpegImagePlugin.JpegImageFile image mode=RGB size=275x183 at 0x7F499F858DD8>"
            ]
          },
          "metadata": {
            "tags": []
          },
          "execution_count": 13
        }
      ]
    },
    {
      "cell_type": "code",
      "metadata": {
        "colab_type": "code",
        "id": "rmLd_Q55TeKJ",
        "outputId": "4f57c13d-e646-444d-d21f-0a2688383324",
        "colab": {
          "base_uri": "https://localhost:8080/",
          "height": 1000
        }
      },
      "source": [
        "with open(\"2007_train.txt\", \"r\") as f:\n",
        "    d = f.readlines()\n",
        "d"
      ],
      "execution_count": 14,
      "outputs": [
        {
          "output_type": "execute_result",
          "data": {
            "text/plain": [
              "['VOCdevkit/VOC2007/JPEGImages/00001.jpg 233,89,386,262,0 134,105,341,253,0\\n',\n",
              " 'VOCdevkit/VOC2007/JPEGImages/00002.jpg 156,114,240,309,0 222,117,415,306,0\\n',\n",
              " 'VOCdevkit/VOC2007/JPEGImages/00004.jpg 15,71,316,233,0\\n',\n",
              " 'VOCdevkit/VOC2007/JPEGImages/00005.jpg 508,213,843,466,0\\n',\n",
              " 'VOCdevkit/VOC2007/JPEGImages/00007.jpg 273,24,603,301,0\\n',\n",
              " 'VOCdevkit/VOC2007/JPEGImages/00009.jpg 43,135,237,348,0\\n',\n",
              " 'VOCdevkit/VOC2007/JPEGImages/00010.jpg 9,116,653,600,0 52,74,540,569,0 1,125,121,599,0\\n',\n",
              " 'VOCdevkit/VOC2007/JPEGImages/00011.jpg 7,116,410,331,0\\n',\n",
              " 'VOCdevkit/VOC2007/JPEGImages/00012.jpg 291,157,550,346,0\\n',\n",
              " 'VOCdevkit/VOC2007/JPEGImages/00013.jpg 223,87,428,355,0 62,114,596,399,0\\n',\n",
              " 'VOCdevkit/VOC2007/JPEGImages/00016.jpg 91,15,565,415,0\\n',\n",
              " 'VOCdevkit/VOC2007/JPEGImages/00017.jpg 61,3,506,387,0\\n',\n",
              " 'VOCdevkit/VOC2007/JPEGImages/00018.jpg 221,1,478,281,0\\n',\n",
              " 'VOCdevkit/VOC2007/JPEGImages/00019.jpg 174,74,285,358,0 374,159,598,396,0\\n',\n",
              " 'VOCdevkit/VOC2007/JPEGImages/00020.jpg 98,28,592,472,0 508,302,561,373,0\\n',\n",
              " 'VOCdevkit/VOC2007/JPEGImages/00021.jpg 300,194,640,371,0 184,263,506,399,0\\n',\n",
              " 'VOCdevkit/VOC2007/JPEGImages/00022.jpg 22,205,341,399,0 509,131,559,207,0 31,138,136,211,0 295,174,429,221,0 178,141,285,202,0\\n',\n",
              " 'VOCdevkit/VOC2007/JPEGImages/00023.jpg 87,47,239,257,0\\n',\n",
              " 'VOCdevkit/VOC2007/JPEGImages/00025.jpg 22,49,640,363,0\\n',\n",
              " 'VOCdevkit/VOC2007/JPEGImages/00026.jpg 311,284,494,407,0\\n',\n",
              " 'VOCdevkit/VOC2007/JPEGImages/00027.jpg 128,1,335,199,0\\n',\n",
              " 'VOCdevkit/VOC2007/JPEGImages/00028.jpg 140,95,673,467,0 55,69,286,352,0\\n',\n",
              " 'VOCdevkit/VOC2007/JPEGImages/00029.jpg 139,52,339,258,0\\n',\n",
              " 'VOCdevkit/VOC2007/JPEGImages/00030.jpg 32,21,236,434,0\\n',\n",
              " 'VOCdevkit/VOC2007/JPEGImages/00031.jpg 1,17,260,326,0 192,75,426,283,0\\n',\n",
              " 'VOCdevkit/VOC2007/JPEGImages/00032.jpg 83,27,262,357,0\\n',\n",
              " 'VOCdevkit/VOC2007/JPEGImages/00033.jpg 273,24,603,301,0\\n',\n",
              " 'VOCdevkit/VOC2007/JPEGImages/00037.jpg 286,59,383,325,0 98,80,254,318,0 12,140,269,388,0\\n',\n",
              " 'VOCdevkit/VOC2007/JPEGImages/00040.jpg 456,132,526,203,0\\n',\n",
              " 'VOCdevkit/VOC2007/JPEGImages/00041.jpg 319,118,962,456,0\\n',\n",
              " 'VOCdevkit/VOC2007/JPEGImages/00042.jpg 246,429,572,769,0\\n',\n",
              " 'VOCdevkit/VOC2007/JPEGImages/00044.jpg 463,48,738,468,0 478,300,592,414,0\\n',\n",
              " 'VOCdevkit/VOC2007/JPEGImages/00046.jpg 1,105,224,289,0 313,106,574,335,0\\n',\n",
              " 'VOCdevkit/VOC2007/JPEGImages/00048.jpg 390,155,537,265,0 288,110,371,149,0 97,143,226,190,0 124,207,274,292,0\\n',\n",
              " 'VOCdevkit/VOC2007/JPEGImages/00049.jpg 308,94,559,412,0\\n',\n",
              " 'VOCdevkit/VOC2007/JPEGImages/00052.jpg 124,38,306,221,0\\n',\n",
              " 'VOCdevkit/VOC2007/JPEGImages/00053.jpg 277,157,470,438,0 653,157,809,565,0 124,268,274,446,0\\n',\n",
              " 'VOCdevkit/VOC2007/JPEGImages/00054.jpg 145,22,640,449,0\\n',\n",
              " 'VOCdevkit/VOC2007/JPEGImages/00055.jpg 156,19,341,339,0\\n',\n",
              " 'VOCdevkit/VOC2007/JPEGImages/00056.jpg 222,3,345,256,0 1,118,259,250,0\\n',\n",
              " 'VOCdevkit/VOC2007/JPEGImages/00060.jpg 300,106,500,369,0 133,213,333,425,0\\n',\n",
              " 'VOCdevkit/VOC2007/JPEGImages/00062.jpg 1,112,220,446,0 180,98,305,435,0\\n',\n",
              " 'VOCdevkit/VOC2007/JPEGImages/00064.jpg 75,156,457,443,0\\n',\n",
              " 'VOCdevkit/VOC2007/JPEGImages/00066.jpg 366,235,698,451,0\\n',\n",
              " 'VOCdevkit/VOC2007/JPEGImages/00069.jpg 1,54,306,325,0\\n',\n",
              " 'VOCdevkit/VOC2007/JPEGImages/00072.jpg 130,61,229,397,0\\n',\n",
              " 'VOCdevkit/VOC2007/JPEGImages/00073.jpg 564,35,953,482,0\\n',\n",
              " 'VOCdevkit/VOC2007/JPEGImages/00074.jpg 33,36,503,443,0\\n',\n",
              " 'VOCdevkit/VOC2007/JPEGImages/00075.jpg 34,82,412,244,0 254,44,294,79,0 62,27,152,76,0 1,38,59,76,0\\n',\n",
              " 'VOCdevkit/VOC2007/JPEGImages/00076.jpg 145,38,247,266,0 247,103,374,258,0 233,86,341,236,0\\n',\n",
              " 'VOCdevkit/VOC2007/JPEGImages/00077.jpg 1,120,224,319,0\\n',\n",
              " 'VOCdevkit/VOC2007/JPEGImages/00079.jpg 170,76,711,468,0\\n',\n",
              " 'VOCdevkit/VOC2007/JPEGImages/00081.jpg 353,95,515,337,0\\n',\n",
              " 'VOCdevkit/VOC2007/JPEGImages/00083.jpg 218,179,959,548,0\\n',\n",
              " 'VOCdevkit/VOC2007/JPEGImages/00084.jpg 9,129,476,388,0\\n',\n",
              " 'VOCdevkit/VOC2007/JPEGImages/00086.jpg 333,189,927,466,0 41,291,392,489,0\\n',\n",
              " 'VOCdevkit/VOC2007/JPEGImages/00087.jpg 110,51,402,349,0\\n',\n",
              " 'VOCdevkit/VOC2007/JPEGImages/00088.jpg 295,118,446,350,0 181,164,342,363,0\\n',\n",
              " 'VOCdevkit/VOC2007/JPEGImages/00090.jpg 152,163,584,370,0 291,39,590,219,0 48,81,268,289,0\\n',\n",
              " 'VOCdevkit/VOC2007/JPEGImages/00091.jpg 383,160,718,643,0\\n',\n",
              " 'VOCdevkit/VOC2007/JPEGImages/00092.jpg 74,47,263,299,0\\n',\n",
              " 'VOCdevkit/VOC2007/JPEGImages/00095.jpg 358,151,598,340,0\\n',\n",
              " 'VOCdevkit/VOC2007/JPEGImages/00097.jpg 90,190,861,582,0\\n',\n",
              " 'VOCdevkit/VOC2007/JPEGImages/00099.jpg 286,126,689,546,0 438,438,554,536,0 308,1,796,324,0\\n',\n",
              " 'VOCdevkit/VOC2007/JPEGImages/00100.jpg 151,93,697,382,0\\n',\n",
              " 'VOCdevkit/VOC2007/JPEGImages/00101.jpg 223,85,547,499,0\\n',\n",
              " 'VOCdevkit/VOC2007/JPEGImages/00102.jpg 311,84,634,406,0\\n',\n",
              " 'VOCdevkit/VOC2007/JPEGImages/00105.jpg 95,48,464,541,0\\n',\n",
              " 'VOCdevkit/VOC2007/JPEGImages/00107.jpg 1,150,154,226,0 140,181,178,224,0 198,128,223,205,0 221,146,282,192,0\\n',\n",
              " 'VOCdevkit/VOC2007/JPEGImages/00108.jpg 95,93,284,258,0 295,91,365,229,0 380,107,488,254,0 7,19,174,295,0\\n',\n",
              " 'VOCdevkit/VOC2007/JPEGImages/00109.jpg 100,86,482,379,0\\n',\n",
              " 'VOCdevkit/VOC2007/JPEGImages/00110.jpg 160,73,446,212,0\\n',\n",
              " 'VOCdevkit/VOC2007/JPEGImages/00111.jpg 393,146,606,274,0\\n',\n",
              " 'VOCdevkit/VOC2007/JPEGImages/00112.jpg 269,253,377,373,0 501,350,707,461,0 80,258,124,316,0\\n',\n",
              " 'VOCdevkit/VOC2007/JPEGImages/00113.jpg 44,101,269,273,0 160,166,395,252,0\\n',\n",
              " 'VOCdevkit/VOC2007/JPEGImages/00115.jpg 153,272,573,632,0 344,348,722,583,0 638,266,888,509,0 221,285,334,390,0\\n',\n",
              " 'VOCdevkit/VOC2007/JPEGImages/00116.jpg 218,73,459,530,0 437,27,847,587,0\\n',\n",
              " 'VOCdevkit/VOC2007/JPEGImages/00117.jpg 401,65,621,557,0\\n',\n",
              " 'VOCdevkit/VOC2007/JPEGImages/00118.jpg 138,63,360,324,0 11,45,189,326,0\\n',\n",
              " 'VOCdevkit/VOC2007/JPEGImages/00119.jpg 1,311,319,703,0 444,517,663,884,0 564,417,692,654,0 270,508,402,957,0 1,484,222,888,0\\n',\n",
              " 'VOCdevkit/VOC2007/JPEGImages/00120.jpg 207,80,644,453,0\\n',\n",
              " 'VOCdevkit/VOC2007/JPEGImages/00121.jpg 12,117,580,363,0\\n',\n",
              " 'VOCdevkit/VOC2007/JPEGImages/00122.jpg 73,54,311,227,0 182,89,445,202,0\\n',\n",
              " 'VOCdevkit/VOC2007/JPEGImages/00123.jpg 562,295,914,470,0\\n',\n",
              " 'VOCdevkit/VOC2007/JPEGImages/00125.jpg 65,170,302,278,0\\n',\n",
              " 'VOCdevkit/VOC2007/JPEGImages/00127.jpg 181,173,498,342,0\\n',\n",
              " 'VOCdevkit/VOC2007/JPEGImages/00129.jpg 183,32,365,450,0\\n',\n",
              " 'VOCdevkit/VOC2007/JPEGImages/00130.jpg 52,84,175,195,0\\n',\n",
              " 'VOCdevkit/VOC2007/JPEGImages/00134.jpg 28,56,539,349,0\\n',\n",
              " 'VOCdevkit/VOC2007/JPEGImages/00136.jpg 21,98,340,331,0\\n',\n",
              " 'VOCdevkit/VOC2007/JPEGImages/00137.jpg 236,297,580,533,0 624,444,966,651,0 1,346,146,503,0\\n',\n",
              " 'VOCdevkit/VOC2007/JPEGImages/00140.jpg 30,33,503,638,0\\n',\n",
              " 'VOCdevkit/VOC2007/JPEGImages/00141.jpg 97,38,444,280,0\\n',\n",
              " 'VOCdevkit/VOC2007/JPEGImages/00143.jpg 421,227,1004,683,0\\n',\n",
              " 'VOCdevkit/VOC2007/JPEGImages/00144.jpg 131,72,598,522,0\\n',\n",
              " 'VOCdevkit/VOC2007/JPEGImages/00145.jpg 210,55,400,308,0\\n',\n",
              " 'VOCdevkit/VOC2007/JPEGImages/00146.jpg 316,72,535,407,0\\n',\n",
              " 'VOCdevkit/VOC2007/JPEGImages/00148.jpg 207,33,701,398,0\\n',\n",
              " 'VOCdevkit/VOC2007/JPEGImages/00149.jpg 338,103,596,387,0 385,273,441,343,0\\n',\n",
              " 'VOCdevkit/VOC2007/JPEGImages/00150.jpg 122,18,343,565,0\\n',\n",
              " 'VOCdevkit/VOC2007/JPEGImages/00151.jpg 179,83,391,372,0\\n',\n",
              " 'VOCdevkit/VOC2007/JPEGImages/00153.jpg 1,442,527,789,0\\n',\n",
              " 'VOCdevkit/VOC2007/JPEGImages/00157.jpg 508,268,618,477,0\\n',\n",
              " 'VOCdevkit/VOC2007/JPEGImages/00161.jpg 276,208,584,352,0\\n',\n",
              " 'VOCdevkit/VOC2007/JPEGImages/00162.jpg 180,206,375,434,0 262,199,375,302,0\\n',\n",
              " 'VOCdevkit/VOC2007/JPEGImages/00163.jpg 263,20,800,593,0\\n',\n",
              " 'VOCdevkit/VOC2007/JPEGImages/00166.jpg 103,222,300,444,0\\n',\n",
              " 'VOCdevkit/VOC2007/JPEGImages/00167.jpg 260,327,465,481,0 591,170,717,423,0 1,182,59,255,0\\n',\n",
              " 'VOCdevkit/VOC2007/JPEGImages/00168.jpg 133,18,314,359,0\\n',\n",
              " 'VOCdevkit/VOC2007/JPEGImages/00169.jpg 258,56,381,267,0\\n',\n",
              " 'VOCdevkit/VOC2007/JPEGImages/00171.jpg 143,96,697,505,0 57,63,444,390,0\\n',\n",
              " 'VOCdevkit/VOC2007/JPEGImages/00173.jpg 1,66,296,566,0 150,11,519,530,0 387,339,488,418,0\\n',\n",
              " 'VOCdevkit/VOC2007/JPEGImages/00174.jpg 1,178,421,742,0\\n',\n",
              " 'VOCdevkit/VOC2007/JPEGImages/00175.jpg 230,66,534,449,0\\n',\n",
              " 'VOCdevkit/VOC2007/JPEGImages/00176.jpg 98,63,296,265,0\\n',\n",
              " 'VOCdevkit/VOC2007/JPEGImages/00177.jpg 362,12,630,317,0\\n',\n",
              " 'VOCdevkit/VOC2007/JPEGImages/00178.jpg 361,130,640,508,0 461,214,907,680,0 1,283,480,552,0\\n',\n",
              " 'VOCdevkit/VOC2007/JPEGImages/00179.jpg 121,45,344,366,0\\n',\n",
              " 'VOCdevkit/VOC2007/JPEGImages/00182.jpg 12,152,133,299,0 102,185,188,303,0 201,133,297,299,0\\n',\n",
              " 'VOCdevkit/VOC2007/JPEGImages/00183.jpg 259,28,626,264,0\\n']"
            ]
          },
          "metadata": {
            "tags": []
          },
          "execution_count": 14
        }
      ]
    }
  ]
}